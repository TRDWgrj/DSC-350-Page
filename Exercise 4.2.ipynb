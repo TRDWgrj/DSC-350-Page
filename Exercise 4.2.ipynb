{
 "cells": [
  {
   "cell_type": "code",
   "execution_count": 1,
   "id": "1b674bce",
   "metadata": {},
   "outputs": [],
   "source": [
    "#importing required libraries\n",
    "import numpy as np\n",
    "import scipy as sp\n",
    "import pandas as pd"
   ]
  },
  {
   "cell_type": "code",
   "execution_count": 5,
   "id": "ddb70704",
   "metadata": {},
   "outputs": [
    {
     "name": "stdout",
     "output_type": "stream",
     "text": [
      "Dataframe Top 5 rows:\n",
      "        Country  CountryID  Continent  Adolescent fertility rate (%)  \\\n",
      "0  Afghanistan          1          1                          151.0   \n",
      "1      Albania          2          2                           27.0   \n",
      "2      Algeria          3          3                            6.0   \n",
      "3      Andorra          4          2                            NaN   \n",
      "4       Angola          5          3                          146.0   \n",
      "\n",
      "   Adult literacy rate (%)  \\\n",
      "0                     28.0   \n",
      "1                     98.7   \n",
      "2                     69.9   \n",
      "3                      NaN   \n",
      "4                     67.4   \n",
      "\n",
      "   Gross national income per capita (PPP international $)  \\\n",
      "0                                                NaN        \n",
      "1                                             6000.0        \n",
      "2                                             5940.0        \n",
      "3                                                NaN        \n",
      "4                                             3890.0        \n",
      "\n",
      "   Net primary school enrolment ratio female (%)  \\\n",
      "0                                            NaN   \n",
      "1                                           93.0   \n",
      "2                                           94.0   \n",
      "3                                           83.0   \n",
      "4                                           49.0   \n",
      "\n",
      "   Net primary school enrolment ratio male (%)  \\\n",
      "0                                          NaN   \n",
      "1                                         94.0   \n",
      "2                                         96.0   \n",
      "3                                         83.0   \n",
      "4                                         51.0   \n",
      "\n",
      "   Population (in thousands) total  \n",
      "0                          26088.0  \n",
      "1                           3172.0  \n",
      "2                          33351.0  \n",
      "3                             74.0  \n",
      "4                          16557.0  \n"
     ]
    }
   ],
   "source": [
    "from pandas.io.parsers import read_csv\n",
    "\n",
    "#loading data into dataframe\n",
    "df = read_csv(\"Documents/BU/DSC 350/Week 4/WHO_first9cols.csv\")\n",
    "print(\"Dataframe Top 5 rows:\\n\", df.head())"
   ]
  },
  {
   "cell_type": "code",
   "execution_count": 6,
   "id": "d769d326",
   "metadata": {},
   "outputs": [
    {
     "name": "stdout",
     "output_type": "stream",
     "text": [
      "Length:\n",
      " 202\n"
     ]
    }
   ],
   "source": [
    "#Query the number of rows\n",
    "print(\"Length:\\n\", len(df))"
   ]
  },
  {
   "cell_type": "code",
   "execution_count": 7,
   "id": "8515fa6e",
   "metadata": {},
   "outputs": [
    {
     "name": "stdout",
     "output_type": "stream",
     "text": [
      "Column Headers:\n",
      " Index(['Country', 'CountryID', 'Continent', 'Adolescent fertility rate (%)',\n",
      "       'Adult literacy rate (%)',\n",
      "       'Gross national income per capita (PPP international $)',\n",
      "       'Net primary school enrolment ratio female (%)',\n",
      "       'Net primary school enrolment ratio male (%)',\n",
      "       'Population (in thousands) total'],\n",
      "      dtype='object')\n"
     ]
    }
   ],
   "source": [
    "#Print the column headers\n",
    "print(\"Column Headers:\\n\", df.columns)"
   ]
  },
  {
   "cell_type": "code",
   "execution_count": 10,
   "id": "ce114cb7",
   "metadata": {},
   "outputs": [
    {
     "name": "stdout",
     "output_type": "stream",
     "text": [
      "Data types:\n",
      " Country                                                    object\n",
      "CountryID                                                   int64\n",
      "Continent                                                   int64\n",
      "Adolescent fertility rate (%)                             float64\n",
      "Adult literacy rate (%)                                   float64\n",
      "Gross national income per capita (PPP international $)    float64\n",
      "Net primary school enrolment ratio female (%)             float64\n",
      "Net primary school enrolment ratio male (%)               float64\n",
      "Population (in thousands) total                           float64\n",
      "dtype: object\n",
      "\n",
      "\n"
     ]
    }
   ],
   "source": [
    "#Print the data types\n",
    "print(\"Data types:\\n\", df.dtypes)\n",
    "print(\"\\n\")"
   ]
  },
  {
   "cell_type": "code",
   "execution_count": 11,
   "id": "59535e4e",
   "metadata": {},
   "outputs": [
    {
     "name": "stdout",
     "output_type": "stream",
     "text": [
      "Index:\n",
      " RangeIndex(start=0, stop=202, step=1)\n"
     ]
    }
   ],
   "source": [
    "#Print the index\n",
    "print(\"Index:\\n\", df.index)"
   ]
  },
  {
   "cell_type": "code",
   "execution_count": 12,
   "id": "ee605c07",
   "metadata": {},
   "outputs": [
    {
     "name": "stdout",
     "output_type": "stream",
     "text": [
      "Type df:\n",
      " <class 'pandas.core.frame.DataFrame'> \n",
      "\n",
      "Type country col:\n",
      " <class 'pandas.core.series.Series'> \n",
      "\n",
      "Series shape:\n",
      " (202,) \n",
      "\n",
      "Series index:\n",
      " RangeIndex(start=0, stop=202, step=1) \n",
      "\n",
      "Series values:\n",
      " ['Afghanistan' 'Albania' 'Algeria' 'Andorra' 'Angola'\n",
      " 'Antigua and Barbuda' 'Argentina' 'Armenia' 'Australia' 'Austria'\n",
      " 'Azerbaijan' 'Bahamas' 'Bahrain' 'Bangladesh' 'Barbados' 'Belarus'\n",
      " 'Belgium' 'Belize' 'Benin' 'Bermuda' 'Bhutan' 'Bolivia'\n",
      " 'Bosnia and Herzegovina' 'Botswana' 'Brazil' 'Brunei Darussalam'\n",
      " 'Bulgaria' 'Burkina Faso' 'Burundi' 'Cambodia' 'Cameroon' 'Canada'\n",
      " 'Cape Verde' 'Central African Republic' 'Chad' 'Chile' 'China' 'Colombia'\n",
      " 'Comoros' 'Congo, Dem. Rep.' 'Congo, Rep.' 'Cook Islands' 'Costa Rica'\n",
      " \"Cote d'Ivoire\" 'Croatia' 'Cuba' 'Cyprus' 'Czech Republic' 'Denmark'\n",
      " 'Djibouti' 'Dominica' 'Dominican Republic' 'Ecuador' 'Egypt'\n",
      " 'El Salvador' 'Equatorial Guinea' 'Eritrea' 'Estonia' 'Ethiopia' 'Fiji'\n",
      " 'Finland' 'France' 'French Polynesia' 'Gabon' 'Gambia' 'Georgia'\n",
      " 'Germany' 'Ghana' 'Greece' 'Grenada' 'Guatemala' 'Guinea' 'Guinea-Bissau'\n",
      " 'Guyana' 'Haiti' 'Honduras' 'Hong Kong, China' 'Hungary' 'Iceland'\n",
      " 'India' 'Indonesia' 'Iran (Islamic Republic of)' 'Iraq' 'Ireland'\n",
      " 'Israel' 'Italy' 'Jamaica' 'Japan' 'Jordan' 'Kazakhstan' 'Kenya'\n",
      " 'Kiribati' 'Korea, Dem. Rep.' 'Korea, Rep.' 'Kuwait' 'Kyrgyzstan'\n",
      " \"Lao People's Democratic Republic\" 'Latvia' 'Lebanon' 'Lesotho' 'Liberia'\n",
      " 'Libyan Arab Jamahiriya' 'Lithuania' 'Luxembourg' 'Macao, China'\n",
      " 'Macedonia' 'Madagascar' 'Malawi' 'Malaysia' 'Maldives' 'Mali' 'Malta'\n",
      " 'Marshall Islands' 'Mauritania' 'Mauritius' 'Mexico'\n",
      " 'Micronesia (Federated States of)' 'Moldova' 'Monaco' 'Mongolia'\n",
      " 'Montenegro' 'Morocco' 'Mozambique' 'Myanmar' 'Namibia' 'Nauru' 'Nepal'\n",
      " 'Netherlands' 'Netherlands Antilles' 'New Caledonia' 'New Zealand'\n",
      " 'Nicaragua' 'Niger' 'Nigeria' 'Niue' 'Norway' 'Oman' 'Pakistan' 'Palau'\n",
      " 'Panama' 'Papua New Guinea' 'Paraguay' 'Peru' 'Philippines' 'Poland'\n",
      " 'Portugal' 'Puerto Rico' 'Qatar' 'Romania' 'Russia' 'Rwanda'\n",
      " 'Saint Kitts and Nevis' 'Saint Lucia' 'Saint Vincent and the Grenadines'\n",
      " 'Samoa' 'San Marino' 'Sao Tome and Principe' 'Saudi Arabia' 'Senegal'\n",
      " 'Serbia' 'Seychelles' 'Sierra Leone' 'Singapore' 'Slovakia' 'Slovenia'\n",
      " 'Solomon Islands' 'Somalia' 'South Africa' 'Spain' 'Sri Lanka' 'Sudan'\n",
      " 'Suriname' 'Swaziland' 'Sweden' 'Switzerland' 'Syria' 'Taiwan'\n",
      " 'Tajikistan' 'Tanzania' 'Thailand' 'Timor-Leste' 'Togo' 'Tonga'\n",
      " 'Trinidad and Tobago' 'Tunisia' 'Turkey' 'Turkmenistan' 'Tuvalu' 'Uganda'\n",
      " 'Ukraine' 'United Arab Emirates' 'United Kingdom'\n",
      " 'United States of America' 'Uruguay' 'Uzbekistan' 'Vanuatu' 'Venezuela'\n",
      " 'Vietnam' 'West Bank and Gaza' 'Yemen' 'Zambia' 'Zimbabwe'] \n",
      "\n",
      "Series name:\n",
      " Country \n",
      "\n"
     ]
    }
   ],
   "source": [
    "#returns \"Country\" column its data type along with the series shape, index, values, and name.\n",
    "country_col = df[\"Country\"]\n",
    "print(\"Type df:\\n\", type(df), \"\\n\")\n",
    "print(\"Type country col:\\n\", type(country_col), \"\\n\")\n",
    "\n",
    "print(\"Series shape:\\n\", country_col.shape, \"\\n\")\n",
    "print(\"Series index:\\n\", country_col.index, \"\\n\")\n",
    "print(\"Series values:\\n\", country_col.values, \"\\n\")\n",
    "print(\"Series name:\\n\", country_col.name, \"\\n\")"
   ]
  },
  {
   "cell_type": "code",
   "execution_count": 21,
   "id": "c70ff0f2",
   "metadata": {},
   "outputs": [
    {
     "name": "stdout",
     "output_type": "stream",
     "text": [
      "Collecting quandl\n",
      "  Downloading Quandl-3.7.0-py2.py3-none-any.whl (26 kB)\n",
      "Requirement already satisfied: requests>=2.7.0 in c:\\users\\12162\\anaconda3\\lib\\site-packages (from quandl) (2.26.0)\n",
      "Requirement already satisfied: numpy>=1.8 in c:\\users\\12162\\anaconda3\\lib\\site-packages (from quandl) (1.20.3)\n",
      "Requirement already satisfied: more-itertools in c:\\users\\12162\\anaconda3\\lib\\site-packages (from quandl) (8.10.0)\n",
      "Requirement already satisfied: python-dateutil in c:\\users\\12162\\anaconda3\\lib\\site-packages (from quandl) (2.8.2)\n",
      "Requirement already satisfied: six in c:\\users\\12162\\anaconda3\\lib\\site-packages (from quandl) (1.16.0)\n",
      "Requirement already satisfied: pandas>=0.14 in c:\\users\\12162\\anaconda3\\lib\\site-packages (from quandl) (1.3.4)\n",
      "Requirement already satisfied: inflection>=0.3.1 in c:\\users\\12162\\anaconda3\\lib\\site-packages (from quandl) (0.5.1)\n",
      "Requirement already satisfied: pytz>=2017.3 in c:\\users\\12162\\anaconda3\\lib\\site-packages (from pandas>=0.14->quandl) (2021.3)\n",
      "Requirement already satisfied: charset-normalizer~=2.0.0 in c:\\users\\12162\\anaconda3\\lib\\site-packages (from requests>=2.7.0->quandl) (2.0.4)\n",
      "Requirement already satisfied: idna<4,>=2.5 in c:\\users\\12162\\anaconda3\\lib\\site-packages (from requests>=2.7.0->quandl) (3.2)\n",
      "Requirement already satisfied: urllib3<1.27,>=1.21.1 in c:\\users\\12162\\anaconda3\\lib\\site-packages (from requests>=2.7.0->quandl) (1.26.7)\n",
      "Requirement already satisfied: certifi>=2017.4.17 in c:\\users\\12162\\anaconda3\\lib\\site-packages (from requests>=2.7.0->quandl) (2021.10.8)\n",
      "Installing collected packages: quandl\n",
      "Successfully installed quandl-3.7.0\n"
     ]
    },
    {
     "name": "stderr",
     "output_type": "stream",
     "text": [
      "WARNING: You are using pip version 22.0.3; however, version 22.0.4 is available.\n",
      "You should consider upgrading via the 'C:\\Users\\12162\\anaconda3\\python.exe -m pip install --upgrade pip' command.\n"
     ]
    }
   ],
   "source": [
    "!pip install quandl"
   ]
  },
  {
   "cell_type": "code",
   "execution_count": 22,
   "id": "f5c02c46",
   "metadata": {},
   "outputs": [
    {
     "name": "stdout",
     "output_type": "stream",
     "text": [
      "Head 2:\n",
      "             Yearly Mean Total Sunspot Number  Yearly Mean Standard Deviation  \\\n",
      "Date                                                                           \n",
      "1700-12-31                               8.3                             NaN   \n",
      "1701-12-31                              18.3                             NaN   \n",
      "\n",
      "            Number of Observations  Definitive/Provisional Indicator  \n",
      "Date                                                                  \n",
      "1700-12-31                     NaN                               1.0  \n",
      "1701-12-31                     NaN                               1.0  \n"
     ]
    }
   ],
   "source": [
    "import quandl\n",
    "\n",
    "#print the head of quandAPI\n",
    " sunspots = quandl.get(\"SIDC/SUNSPOTS_A\")\n",
    "print(\"Head 2:\\n\", sunspots.head(2) )"
   ]
  },
  {
   "cell_type": "code",
   "execution_count": 24,
   "id": "9418a69d",
   "metadata": {},
   "outputs": [
    {
     "name": "stdout",
     "output_type": "stream",
     "text": [
      "Tail 2:\n",
      "             Yearly Mean Total Sunspot Number  Yearly Mean Standard Deviation  \\\n",
      "Date                                                                           \n",
      "2019-12-31                               3.6                             0.5   \n",
      "2020-12-31                               8.8                             4.1   \n",
      "\n",
      "            Number of Observations  Definitive/Provisional Indicator  \n",
      "Date                                                                  \n",
      "2019-12-31                 12884.0                               1.0  \n",
      "2020-12-31                 14440.0                               1.0  \n"
     ]
    }
   ],
   "source": [
    "#print the tail of quandAPI\n",
    "print(\"Tail 2:\\n\", sunspots.tail(2))"
   ]
  },
  {
   "cell_type": "code",
   "execution_count": 25,
   "id": "a4cea1cb",
   "metadata": {},
   "outputs": [
    {
     "name": "stdout",
     "output_type": "stream",
     "text": [
      "Last value:\n",
      " Yearly Mean Total Sunspot Number        8.8\n",
      "Yearly Mean Standard Deviation          4.1\n",
      "Number of Observations              14440.0\n",
      "Definitive/Provisional Indicator        1.0\n",
      "Name: 2020-12-31 00:00:00, dtype: float64\n"
     ]
    }
   ],
   "source": [
    "#Query for the last value using the last date\n",
    "last_date = sunspots.index[-1]\n",
    "print(\"Last value:\\n\",sunspots.loc[last_date])"
   ]
  },
  {
   "cell_type": "code",
   "execution_count": 26,
   "id": "ab759875",
   "metadata": {},
   "outputs": [
    {
     "name": "stdout",
     "output_type": "stream",
     "text": [
      "Values slice by date:\n",
      "             Yearly Mean Total Sunspot Number  Yearly Mean Standard Deviation  \\\n",
      "Date                                                                           \n",
      "2002-12-31                             163.6                             9.8   \n",
      "2003-12-31                              99.3                             7.1   \n",
      "2004-12-31                              65.3                             5.9   \n",
      "2005-12-31                              45.8                             4.7   \n",
      "2006-12-31                              24.7                             3.5   \n",
      "2007-12-31                              12.6                             2.7   \n",
      "2008-12-31                               4.2                             2.5   \n",
      "2009-12-31                               4.8                             2.5   \n",
      "2010-12-31                              24.9                             3.4   \n",
      "2011-12-31                              80.8                             6.7   \n",
      "2012-12-31                              84.5                             6.7   \n",
      "2013-12-31                              94.0                             6.9   \n",
      "\n",
      "            Number of Observations  Definitive/Provisional Indicator  \n",
      "Date                                                                  \n",
      "2002-12-31                  6588.0                               1.0  \n",
      "2003-12-31                  7087.0                               1.0  \n",
      "2004-12-31                  6882.0                               1.0  \n",
      "2005-12-31                  7084.0                               1.0  \n",
      "2006-12-31                  6370.0                               1.0  \n",
      "2007-12-31                  6841.0                               1.0  \n",
      "2008-12-31                  6644.0                               1.0  \n",
      "2009-12-31                  6465.0                               1.0  \n",
      "2010-12-31                  6328.0                               1.0  \n",
      "2011-12-31                  6077.0                               1.0  \n",
      "2012-12-31                  5753.0                               1.0  \n",
      "2013-12-31                  5347.0                               1.0  \n"
     ]
    }
   ],
   "source": [
    "#Query the date with date strings in the YYYYMMDD format\n",
    "print(\"Values slice by date:\\n\", sunspots[\"20020101\": \"20131231\"])"
   ]
  },
  {
   "cell_type": "code",
   "execution_count": 28,
   "id": "e3831ed3",
   "metadata": {},
   "outputs": [
    {
     "name": "stdout",
     "output_type": "stream",
     "text": [
      "Boolean selection:\n",
      "             Yearly Mean Total Sunspot Number  Yearly Mean Standard Deviation  \\\n",
      "Date                                                                           \n",
      "1700-12-31                               NaN                             NaN   \n",
      "1701-12-31                               NaN                             NaN   \n",
      "1702-12-31                               NaN                             NaN   \n",
      "1703-12-31                               NaN                             NaN   \n",
      "1704-12-31                               NaN                             NaN   \n",
      "...                                      ...                             ...   \n",
      "2016-12-31                               NaN                             NaN   \n",
      "2017-12-31                               NaN                             NaN   \n",
      "2018-12-31                               NaN                             NaN   \n",
      "2019-12-31                               NaN                             NaN   \n",
      "2020-12-31                               NaN                             NaN   \n",
      "\n",
      "            Number of Observations  Definitive/Provisional Indicator  \n",
      "Date                                                                  \n",
      "1700-12-31                     NaN                               NaN  \n",
      "1701-12-31                     NaN                               NaN  \n",
      "1702-12-31                     NaN                               NaN  \n",
      "1703-12-31                     NaN                               NaN  \n",
      "1704-12-31                     NaN                               NaN  \n",
      "...                            ...                               ...  \n",
      "2016-12-31                  9940.0                               NaN  \n",
      "2017-12-31                 11444.0                               NaN  \n",
      "2018-12-31                 12611.0                               NaN  \n",
      "2019-12-31                 12884.0                               NaN  \n",
      "2020-12-31                 14440.0                               NaN  \n",
      "\n",
      "[321 rows x 4 columns]\n"
     ]
    }
   ],
   "source": [
    "#Query with a Boolean, where the number of sunspots is greater than the mean number of sunspots\n",
    "print(\"Boolean selection:\\n\", sunspots[sunspots > sunspots.mean()])"
   ]
  },
  {
   "cell_type": "code",
   "execution_count": 29,
   "id": "3f7c96af",
   "metadata": {},
   "outputs": [
    {
     "name": "stdout",
     "output_type": "stream",
     "text": [
      "Boolean selection with column label:\n",
      "             Yearly Mean Total Sunspot Number  Yearly Mean Standard Deviation  \\\n",
      "Date                                                                           \n",
      "1981-12-31                             198.9                            13.1   \n",
      "1982-12-31                             162.4                            12.1   \n",
      "1983-12-31                              91.0                             7.6   \n",
      "1984-12-31                              60.5                             5.9   \n",
      "1985-12-31                              20.6                             3.7   \n",
      "1986-12-31                              14.8                             3.5   \n",
      "1987-12-31                              33.9                             3.7   \n",
      "1988-12-31                             123.0                             8.4   \n",
      "1989-12-31                             211.1                            12.8   \n",
      "1990-12-31                             191.8                            11.2   \n",
      "1991-12-31                             203.3                            12.7   \n",
      "1992-12-31                             133.0                             8.9   \n",
      "1993-12-31                              76.1                             5.8   \n",
      "1994-12-31                              44.9                             4.4   \n",
      "1995-12-31                              25.1                             3.7   \n",
      "1996-12-31                              11.6                             3.1   \n",
      "1997-12-31                              28.9                             3.6   \n",
      "1998-12-31                              88.3                             6.6   \n",
      "1999-12-31                             136.3                             9.3   \n",
      "2000-12-31                             173.9                            10.1   \n",
      "2001-12-31                             170.4                            10.5   \n",
      "2002-12-31                             163.6                             9.8   \n",
      "2003-12-31                              99.3                             7.1   \n",
      "2004-12-31                              65.3                             5.9   \n",
      "2005-12-31                              45.8                             4.7   \n",
      "2006-12-31                              24.7                             3.5   \n",
      "2007-12-31                              12.6                             2.7   \n",
      "2008-12-31                               4.2                             2.5   \n",
      "2009-12-31                               4.8                             2.5   \n",
      "2010-12-31                              24.9                             3.4   \n",
      "2011-12-31                              80.8                             6.7   \n",
      "2012-12-31                              84.5                             6.7   \n",
      "2013-12-31                              94.0                             6.9   \n",
      "2014-12-31                             113.3                             8.0   \n",
      "2015-12-31                              69.8                             6.4   \n",
      "2016-12-31                              39.8                             3.9   \n",
      "2017-12-31                              21.7                             2.5   \n",
      "2018-12-31                               7.0                             1.1   \n",
      "2019-12-31                               3.6                             0.5   \n",
      "2020-12-31                               8.8                             4.1   \n",
      "\n",
      "            Number of Observations  Definitive/Provisional Indicator  \n",
      "Date                                                                  \n",
      "1981-12-31                  3049.0                               1.0  \n",
      "1982-12-31                  3436.0                               1.0  \n",
      "1983-12-31                  4216.0                               1.0  \n",
      "1984-12-31                  5103.0                               1.0  \n",
      "1985-12-31                  5543.0                               1.0  \n",
      "1986-12-31                  5934.0                               1.0  \n",
      "1987-12-31                  6396.0                               1.0  \n",
      "1988-12-31                  6556.0                               1.0  \n",
      "1989-12-31                  6932.0                               1.0  \n",
      "1990-12-31                  7108.0                               1.0  \n",
      "1991-12-31                  6932.0                               1.0  \n",
      "1992-12-31                  7845.0                               1.0  \n",
      "1993-12-31                  8010.0                               1.0  \n",
      "1994-12-31                  8524.0                               1.0  \n",
      "1995-12-31                  8429.0                               1.0  \n",
      "1996-12-31                  7614.0                               1.0  \n",
      "1997-12-31                  7294.0                               1.0  \n",
      "1998-12-31                  6353.0                               1.0  \n",
      "1999-12-31                  6413.0                               1.0  \n",
      "2000-12-31                  5953.0                               1.0  \n",
      "2001-12-31                  6558.0                               1.0  \n",
      "2002-12-31                  6588.0                               1.0  \n",
      "2003-12-31                  7087.0                               1.0  \n",
      "2004-12-31                  6882.0                               1.0  \n",
      "2005-12-31                  7084.0                               1.0  \n",
      "2006-12-31                  6370.0                               1.0  \n",
      "2007-12-31                  6841.0                               1.0  \n",
      "2008-12-31                  6644.0                               1.0  \n",
      "2009-12-31                  6465.0                               1.0  \n",
      "2010-12-31                  6328.0                               1.0  \n",
      "2011-12-31                  6077.0                               1.0  \n",
      "2012-12-31                  5753.0                               1.0  \n",
      "2013-12-31                  5347.0                               1.0  \n",
      "2014-12-31                  5273.0                               1.0  \n",
      "2015-12-31                  8903.0                               1.0  \n",
      "2016-12-31                  9940.0                               1.0  \n",
      "2017-12-31                 11444.0                               1.0  \n",
      "2018-12-31                 12611.0                               1.0  \n",
      "2019-12-31                 12884.0                               1.0  \n",
      "2020-12-31                 14440.0                               1.0  \n"
     ]
    }
   ],
   "source": [
    "#Query with a Boolean, where the number of observations is greater than the mean number of observations\n",
    "print(\"Boolean selection with column label:\\n\", sunspots[sunspots['Number of Observations'] > sunspots['Number of Observations'].mean()])"
   ]
  },
  {
   "cell_type": "code",
   "execution_count": 30,
   "id": "67fab092",
   "metadata": {},
   "outputs": [
    {
     "name": "stdout",
     "output_type": "stream",
     "text": [
      "Describe        Yearly Mean Total Sunspot Number  Yearly Mean Standard Deviation  \\\n",
      "count                        321.000000                      203.000000   \n",
      "mean                          78.517134                        7.892118   \n",
      "std                           62.091523                        3.866310   \n",
      "min                            0.000000                        0.500000   \n",
      "25%                           24.200000                        4.550000   \n",
      "50%                           65.300000                        7.600000   \n",
      "75%                          115.200000                       10.350000   \n",
      "max                          269.300000                       19.100000   \n",
      "\n",
      "       Number of Observations  Definitive/Provisional Indicator  \n",
      "count              203.000000                             321.0  \n",
      "mean              1691.857143                               1.0  \n",
      "std               2913.060813                               0.0  \n",
      "min                150.000000                               1.0  \n",
      "25%                365.000000                               1.0  \n",
      "50%                365.000000                               1.0  \n",
      "75%                366.000000                               1.0  \n",
      "max              14440.000000                               1.0   \n",
      "\n",
      "Non NaN observations Yearly Mean Total Sunspot Number    321\n",
      "Yearly Mean Standard Deviation      203\n",
      "Number of Observations              203\n",
      "Definitive/Provisional Indicator    321\n",
      "dtype: int64 \n",
      "\n",
      "MAD Yearly Mean Total Sunspot Number      51.020996\n",
      "Yearly Mean Standard Deviation         3.177068\n",
      "Number of Observations              2162.410978\n",
      "Definitive/Provisional Indicator       0.000000\n",
      "dtype: float64 \n",
      "\n",
      "Median Yearly Mean Total Sunspot Number     65.3\n",
      "Yearly Mean Standard Deviation        7.6\n",
      "Number of Observations              365.0\n",
      "Definitive/Provisional Indicator      1.0\n",
      "dtype: float64 \n",
      "\n",
      "Min Yearly Mean Total Sunspot Number      0.0\n",
      "Yearly Mean Standard Deviation        0.5\n",
      "Number of Observations              150.0\n",
      "Definitive/Provisional Indicator      1.0\n",
      "dtype: float64 \n",
      "\n",
      "Max Yearly Mean Total Sunspot Number      269.3\n",
      "Yearly Mean Standard Deviation         19.1\n",
      "Number of Observations              14440.0\n",
      "Definitive/Provisional Indicator        1.0\n",
      "dtype: float64 \n",
      "\n",
      "Mode    Yearly Mean Total Sunspot Number  Yearly Mean Standard Deviation  \\\n",
      "0                              18.3                             9.2   \n",
      "\n",
      "   Number of Observations  Definitive/Provisional Indicator  \n",
      "0                   365.0                               1.0   \n",
      "\n",
      "Standard Deviation Yearly Mean Total Sunspot Number      62.091523\n",
      "Yearly Mean Standard Deviation         3.866310\n",
      "Number of Observations              2913.060813\n",
      "Definitive/Provisional Indicator       0.000000\n",
      "dtype: float64 \n",
      "\n",
      "Variance Yearly Mean Total Sunspot Number    3.855357e+03\n",
      "Yearly Mean Standard Deviation      1.494835e+01\n",
      "Number of Observations              8.485923e+06\n",
      "Definitive/Provisional Indicator    0.000000e+00\n",
      "dtype: float64 \n",
      "\n",
      "Skewness Yearly Mean Total Sunspot Number    0.814781\n",
      "Yearly Mean Standard Deviation      0.533409\n",
      "Number of Observations              2.099601\n",
      "Definitive/Provisional Indicator    0.000000\n",
      "dtype: float64 \n",
      "\n",
      "Kurtosis Yearly Mean Total Sunspot Number   -0.123304\n",
      "Yearly Mean Standard Deviation     -0.248137\n",
      "Number of Observations              3.715845\n",
      "Definitive/Provisional Indicator    0.000000\n",
      "dtype: float64 \n",
      "\n"
     ]
    }
   ],
   "source": [
    "#Using the Quandl API, import the data and run the following descriptive stats where Sunspots is not equal to NaN\n",
    "import quandl\n",
    "\n",
    "sunspots = quandl.get(\"SIDC/SUNSPOTS_A\")\n",
    "print(\"Describe\", sunspots.describe(),\"\\n\")\n",
    "print(\"Non NaN observations\", sunspots.count(),\"\\n\")\n",
    "print(\"MAD\", sunspots.mad(),\"\\n\")\n",
    "print(\"Median\", sunspots.median(),\"\\n\")\n",
    "print(\"Min\", sunspots.min(),\"\\n\")\n",
    "print(\"Max\", sunspots.max(),\"\\n\")\n",
    "print(\"Mode\", sunspots.mode(),\"\\n\")\n",
    "print(\"Standard Deviation\", sunspots.std(),\"\\n\")\n",
    "print(\"Variance\", sunspots.var(),\"\\n\")\n",
    "print(\"Skewness\", sunspots.skew(),\"\\n\")\n",
    "print(\"Kurtosis\", sunspots.kurt(),\"\\n\")"
   ]
  },
  {
   "cell_type": "code",
   "execution_count": 31,
   "id": "de1e4644",
   "metadata": {},
   "outputs": [
    {
     "name": "stdout",
     "output_type": "stream",
     "text": [
      "  Weather       Food     Price  Number\n",
      "0    cold       soup  3.745401       8\n",
      "1     hot       soup  9.507143       8\n",
      "2    cold   icecream  7.319939       8\n",
      "3     hot  chocolate  5.986585       8\n",
      "4    cold   icecream  1.560186       8\n",
      "5     hot   icecream  1.559945       8\n",
      "6    cold       soup  0.580836       8\n"
     ]
    }
   ],
   "source": [
    "#Using the numpy random data generator, create a dataframe with the following columns (Weather, Food  Price, and Number)\n",
    "import pandas as pd\n",
    "from numpy.random import seed\n",
    "from numpy.random import rand\n",
    "from numpy.random import randint\n",
    "import numpy as np\n",
    "\n",
    "seed(42)\n",
    "\n",
    "df = pd.DataFrame({'Weather' : ['cold', 'hot', 'cold', 'hot',\n",
    "   'cold', 'hot', 'cold'],\n",
    "   'Food' : ['soup', 'soup', 'icecream', 'chocolate',\n",
    "   'icecream', 'icecream', 'soup'],\n",
    "   'Price' : 10 * rand(7), 'Number' : randint(1, 9)})\n",
    "\n",
    "print(df)"
   ]
  },
  {
   "cell_type": "code",
   "execution_count": 32,
   "id": "ed874881",
   "metadata": {},
   "outputs": [
    {
     "name": "stdout",
     "output_type": "stream",
     "text": [
      "Group 1 cold\n",
      "  Weather      Food     Price  Number\n",
      "0    cold      soup  3.745401       8\n",
      "2    cold  icecream  7.319939       8\n",
      "4    cold  icecream  1.560186       8\n",
      "6    cold      soup  0.580836       8\n",
      "Group 2 hot\n",
      "  Weather       Food     Price  Number\n",
      "1     hot       soup  9.507143       8\n",
      "3     hot  chocolate  5.986585       8\n",
      "5     hot   icecream  1.559945       8\n"
     ]
    }
   ],
   "source": [
    "#Group the data by the weather column and then create a function to iterate through the groups \n",
    "#(you should have 2 groups after, for hot and cold)\n",
    "weather_group = df.groupby('Weather')\n",
    "\n",
    "i = 0\n",
    "\n",
    "for name, group in weather_group:\n",
    "   i = i + 1\n",
    "   print(\"Group\", i, name)\n",
    "   print(group)"
   ]
  },
  {
   "cell_type": "code",
   "execution_count": 33,
   "id": "bcd90abf",
   "metadata": {},
   "outputs": [
    {
     "name": "stdout",
     "output_type": "stream",
     "text": [
      "Weather group first\n",
      "          Food     Price  Number\n",
      "Weather                        \n",
      "cold     soup  3.745401       8\n",
      "hot      soup  9.507143       8\n",
      "Weather group last\n",
      "              Food     Price  Number\n",
      "Weather                            \n",
      "cold         soup  0.580836       8\n",
      "hot      icecream  1.559945       8\n",
      "Weather group mean\n",
      "             Price  Number\n",
      "Weather                  \n",
      "cold     3.301591     8.0\n",
      "hot      5.684558     8.0\n"
     ]
    }
   ],
   "source": [
    "#Function/variable created (weather_group) can be used for aggregation methods\n",
    "#print first row, last row and mean for each group\n",
    "print(\"Weather group first\\n\", weather_group.first())\n",
    "print(\"Weather group last\\n\", weather_group.last())\n",
    "print(\"Weather group mean\\n\", weather_group.mean())"
   ]
  },
  {
   "cell_type": "code",
   "execution_count": 34,
   "id": "95ac6871",
   "metadata": {},
   "outputs": [
    {
     "name": "stdout",
     "output_type": "stream",
     "text": [
      "WF Groups {('cold', 'icecream'): [2, 4], ('cold', 'soup'): [0, 6], ('hot', 'chocolate'): [3], ('hot', 'icecream'): [5], ('hot', 'soup'): [1]}\n"
     ]
    }
   ],
   "source": [
    "#Create another group – on Food (so you would have Weather and Food)\n",
    "wf_group = df.groupby(['Weather', 'Food'])\n",
    "print(\"WF Groups\", wf_group.groups)"
   ]
  },
  {
   "cell_type": "code",
   "execution_count": 35,
   "id": "0cb5828c",
   "metadata": {},
   "outputs": [
    {
     "name": "stdout",
     "output_type": "stream",
     "text": [
      "WF Aggregated\n",
      "                       Price           Number       \n",
      "                       mean    median   mean median\n",
      "Weather Food                                       \n",
      "cold    icecream   4.440063  4.440063    8.0    8.0\n",
      "        soup       2.163119  2.163119    8.0    8.0\n",
      "hot     chocolate  5.986585  5.986585    8.0    8.0\n",
      "        icecream   1.559945  1.559945    8.0    8.0\n",
      "        soup       9.507143  9.507143    8.0    8.0\n"
     ]
    }
   ],
   "source": [
    "#Using the new groups – use the numpy function agg() to find the mean and median number and price\n",
    "print(\"WF Aggregated\\n\", wf_group.agg([np.mean, np.median]))"
   ]
  },
  {
   "cell_type": "code",
   "execution_count": 36,
   "id": "4662b5f2",
   "metadata": {},
   "outputs": [
    {
     "name": "stdout",
     "output_type": "stream",
     "text": [
      "df :3\n",
      "   Weather      Food     Price  Number\n",
      "0    cold      soup  3.745401       8\n",
      "1     hot      soup  9.507143       8\n",
      "2    cold  icecream  7.319939       8\n"
     ]
    }
   ],
   "source": [
    "#Using the dataframe you created in #5, select the first 3 rows\n",
    "print(\"df :3\\n\", df[:3])"
   ]
  },
  {
   "cell_type": "code",
   "execution_count": 37,
   "id": "f016de0b",
   "metadata": {},
   "outputs": [
    {
     "name": "stdout",
     "output_type": "stream",
     "text": [
      "Concat Back together\n",
      "   Weather       Food     Price  Number\n",
      "0    cold       soup  3.745401       8\n",
      "1     hot       soup  9.507143       8\n",
      "2    cold   icecream  7.319939       8\n",
      "3     hot  chocolate  5.986585       8\n",
      "4    cold   icecream  1.560186       8\n",
      "5     hot   icecream  1.559945       8\n",
      "6    cold       soup  0.580836       8\n"
     ]
    }
   ],
   "source": [
    "#Using the concat function from pandas, put the 3 rows you selected back with the original dataframe\n",
    "print(\"Concat Back together\\n\", pd.concat([df[:3], df[3:]]))"
   ]
  },
  {
   "cell_type": "code",
   "execution_count": 38,
   "id": "1a85fb5f",
   "metadata": {},
   "outputs": [
    {
     "name": "stdout",
     "output_type": "stream",
     "text": [
      "Appending rows\n",
      "   Weather      Food     Price  Number\n",
      "0    cold      soup  3.745401       8\n",
      "1     hot      soup  9.507143       8\n",
      "2    cold  icecream  7.319939       8\n",
      "5     hot  icecream  1.559945       8\n",
      "6    cold      soup  0.580836       8\n"
     ]
    }
   ],
   "source": [
    "#Using the append function, take those 3 rows and the last 2 rows of the original DataFrame and bring them together\n",
    "print(\"Appending rows\\n\", df[:3].append(df[5:]))"
   ]
  },
  {
   "cell_type": "code",
   "execution_count": 39,
   "id": "31c383b7",
   "metadata": {},
   "outputs": [
    {
     "name": "stdout",
     "output_type": "stream",
     "text": [
      "Dests\n",
      "    EmpNr       Dest\n",
      "0      5  The Hague\n",
      "1      3  Amsterdam\n",
      "2      9  Rotterdam\n",
      "Tips\n",
      "    EmpNr  Amount\n",
      "0      5    10.0\n",
      "1      9     5.0\n",
      "2      7     2.5\n",
      "Merge() on key\n",
      "    EmpNr       Dest  Amount\n",
      "0      5  The Hague    10.0\n",
      "1      9  Rotterdam     5.0\n",
      "Dests join() tips\n",
      "    EmpNrDest       Dest  EmpNrTips  Amount\n",
      "0          5  The Hague          5    10.0\n",
      "1          3  Amsterdam          9     5.0\n",
      "2          9  Rotterdam          7     2.5\n",
      "Inner join with merge()\n",
      "    EmpNr       Dest  Amount\n",
      "0      5  The Hague    10.0\n",
      "1      9  Rotterdam     5.0\n",
      "Outer join\n",
      "    EmpNr       Dest  Amount\n",
      "0      5  The Hague    10.0\n",
      "1      3  Amsterdam     NaN\n",
      "2      9  Rotterdam     5.0\n",
      "3      7        NaN     2.5\n"
     ]
    }
   ],
   "source": [
    "#Joining dataframes\n",
    "#Using the two CSV files dest.csv and tips.csv, we will bring together two datasets, also known as a join\n",
    "dests = pd.read_csv(\"Documents/BU/DSC 350/Week 4/dest.csv\")\n",
    "print(\"Dests\\n\", dests)\n",
    "\n",
    "tips = pd.read_csv(\"Documents/BU/DSC 350/Week 4/tips.csv\")\n",
    "print(\"Tips\\n\", tips)\n",
    "\n",
    "#Using the merge() function, bring dest and tips together on the “EmpNr” column and print the results\n",
    "print(\"Merge() on key\\n\", pd.merge(dests, tips, on='EmpNr'))\n",
    "print(\"Dests join() tips\\n\", dests.join(tips, lsuffix='Dest', rsuffix='Tips'))\n",
    "#Using the join() function, query both files and print the results\n",
    "print(\"Inner join with merge()\\n\", pd.merge(dests, tips, how='inner'))\n",
    "print(\"Outer join\\n\", pd.merge(dests, tips, how='outer'))"
   ]
  },
  {
   "cell_type": "code",
   "execution_count": 40,
   "id": "dadd1d78",
   "metadata": {},
   "outputs": [
    {
     "name": "stdout",
     "output_type": "stream",
     "text": [
      "New df\n",
      "        Country  Net primary school enrolment ratio male (%)\n",
      "0  Afghanistan                                          NaN\n",
      "1      Albania                                         94.0\n",
      "Null Values\n",
      "    Country  Net primary school enrolment ratio male (%)\n",
      "0    False                                         True\n",
      "1    False                                        False\n",
      "Total Null Values\n",
      " Country                                        0\n",
      "Net primary school enrolment ratio male (%)    1\n",
      "dtype: int64\n",
      "Not Null Values\n",
      "    Country  Net primary school enrolment ratio male (%)\n",
      "0     True                                        False\n",
      "1     True                                         True\n",
      "Last Column Doubled\n",
      " 0      NaN\n",
      "1    188.0\n",
      "Name: Net primary school enrolment ratio male (%), dtype: float64\n",
      "Last Column plus NaN\n",
      " 0   NaN\n",
      "1   NaN\n",
      "Name: Net primary school enrolment ratio male (%), dtype: float64\n",
      "Zero filled\n",
      "        Country  Net primary school enrolment ratio male (%)\n",
      "0  Afghanistan                                          0.0\n",
      "1      Albania                                         94.0\n"
     ]
    }
   ],
   "source": [
    "#load WHO_first9cols.csv file\n",
    "df = pd.read_csv(\"Documents/BU/DSC 350/Week 4/WHO_first9cols.csv\")\n",
    "\n",
    "# Using the WHO_first9cols.csv file, select the first 3 rows, including the headers \n",
    "#for these two columns Country & Net primary school enrolment ratio male (%)\n",
    "df = df[['Country', df.columns[-2]]][:2]\n",
    "print(\"New df\\n\", df)\n",
    "print(\"Null Values\\n\", pd.isnull(df))\n",
    "print(\"Total Null Values\\n\", pd.isnull(df).sum())\n",
    "print(\"Not Null Values\\n\", df.notnull())\n",
    "print(\"Last Column Doubled\\n\", 2 * df[df.columns[-1]])\n",
    "print(\"Last Column plus NaN\\n\", df[df.columns[-1]] + np.nan)\n",
    "print(\"Zero filled\\n\", df.fillna(0))"
   ]
  },
  {
   "cell_type": "code",
   "execution_count": null,
   "id": "1cc8fcab",
   "metadata": {},
   "outputs": [],
   "source": []
  }
 ],
 "metadata": {
  "kernelspec": {
   "display_name": "Python 3 (ipykernel)",
   "language": "python",
   "name": "python3"
  },
  "language_info": {
   "codemirror_mode": {
    "name": "ipython",
    "version": 3
   },
   "file_extension": ".py",
   "mimetype": "text/x-python",
   "name": "python",
   "nbconvert_exporter": "python",
   "pygments_lexer": "ipython3",
   "version": "3.9.7"
  }
 },
 "nbformat": 4,
 "nbformat_minor": 5
}
