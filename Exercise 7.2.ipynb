{
 "cells": [
  {
   "cell_type": "code",
   "execution_count": 88,
   "id": "28c0cdee",
   "metadata": {},
   "outputs": [
    {
     "data": {
      "text/html": [
       "<div>\n",
       "<style scoped>\n",
       "    .dataframe tbody tr th:only-of-type {\n",
       "        vertical-align: middle;\n",
       "    }\n",
       "\n",
       "    .dataframe tbody tr th {\n",
       "        vertical-align: top;\n",
       "    }\n",
       "\n",
       "    .dataframe thead th {\n",
       "        text-align: right;\n",
       "    }\n",
       "</style>\n",
       "<table border=\"1\" class=\"dataframe\">\n",
       "  <thead>\n",
       "    <tr style=\"text-align: right;\">\n",
       "      <th></th>\n",
       "      <th>open</th>\n",
       "      <th>high</th>\n",
       "      <th>low</th>\n",
       "      <th>close</th>\n",
       "      <th>volume</th>\n",
       "    </tr>\n",
       "    <tr>\n",
       "      <th>date</th>\n",
       "      <th></th>\n",
       "      <th></th>\n",
       "      <th></th>\n",
       "      <th></th>\n",
       "      <th></th>\n",
       "    </tr>\n",
       "  </thead>\n",
       "  <tbody>\n",
       "    <tr>\n",
       "      <th>2018-01-02</th>\n",
       "      <td>177.68</td>\n",
       "      <td>181.58</td>\n",
       "      <td>177.5500</td>\n",
       "      <td>181.42</td>\n",
       "      <td>18151903</td>\n",
       "    </tr>\n",
       "    <tr>\n",
       "      <th>2018-01-03</th>\n",
       "      <td>181.88</td>\n",
       "      <td>184.78</td>\n",
       "      <td>181.3300</td>\n",
       "      <td>184.67</td>\n",
       "      <td>16886563</td>\n",
       "    </tr>\n",
       "    <tr>\n",
       "      <th>2018-01-04</th>\n",
       "      <td>184.90</td>\n",
       "      <td>186.21</td>\n",
       "      <td>184.0996</td>\n",
       "      <td>184.33</td>\n",
       "      <td>13880896</td>\n",
       "    </tr>\n",
       "    <tr>\n",
       "      <th>2018-01-05</th>\n",
       "      <td>185.59</td>\n",
       "      <td>186.90</td>\n",
       "      <td>184.9300</td>\n",
       "      <td>186.85</td>\n",
       "      <td>13574535</td>\n",
       "    </tr>\n",
       "    <tr>\n",
       "      <th>2018-01-08</th>\n",
       "      <td>187.20</td>\n",
       "      <td>188.90</td>\n",
       "      <td>186.3300</td>\n",
       "      <td>188.28</td>\n",
       "      <td>17994726</td>\n",
       "    </tr>\n",
       "  </tbody>\n",
       "</table>\n",
       "</div>"
      ],
      "text/plain": [
       "              open    high       low   close    volume\n",
       "date                                                  \n",
       "2018-01-02  177.68  181.58  177.5500  181.42  18151903\n",
       "2018-01-03  181.88  184.78  181.3300  184.67  16886563\n",
       "2018-01-04  184.90  186.21  184.0996  184.33  13880896\n",
       "2018-01-05  185.59  186.90  184.9300  186.85  13574535\n",
       "2018-01-08  187.20  188.90  186.3300  188.28  17994726"
      ]
     },
     "execution_count": 88,
     "metadata": {},
     "output_type": "execute_result"
    }
   ],
   "source": [
    "#load required library\n",
    "import pandas as pd\n",
    "import numpy as np\n",
    "import matplotlib.pyplot as plt\n",
    "%matplotlib inline\n",
    "\n",
    "#Load dataset\n",
    "fb = pd.read_csv(\"C:\\\\Users\\\\12162\\\\Documents\\\\BU\\\\DSC 350\\\\Week 7\\\\data\\\\fb_stock_prices_2018.csv\", index_col='date', parse_dates=True)\n",
    "fb.head()"
   ]
  },
  {
   "cell_type": "code",
   "execution_count": 89,
   "id": "0649e76d",
   "metadata": {},
   "outputs": [
    {
     "data": {
      "text/html": [
       "<div>\n",
       "<style scoped>\n",
       "    .dataframe tbody tr th:only-of-type {\n",
       "        vertical-align: middle;\n",
       "    }\n",
       "\n",
       "    .dataframe tbody tr th {\n",
       "        vertical-align: top;\n",
       "    }\n",
       "\n",
       "    .dataframe thead th {\n",
       "        text-align: right;\n",
       "    }\n",
       "</style>\n",
       "<table border=\"1\" class=\"dataframe\">\n",
       "  <thead>\n",
       "    <tr style=\"text-align: right;\">\n",
       "      <th></th>\n",
       "      <th>open</th>\n",
       "      <th>high</th>\n",
       "      <th>low</th>\n",
       "      <th>close</th>\n",
       "      <th>volume</th>\n",
       "    </tr>\n",
       "    <tr>\n",
       "      <th>date</th>\n",
       "      <th></th>\n",
       "      <th></th>\n",
       "      <th></th>\n",
       "      <th></th>\n",
       "      <th></th>\n",
       "    </tr>\n",
       "  </thead>\n",
       "  <tbody>\n",
       "    <tr>\n",
       "      <th>2018-12-24</th>\n",
       "      <td>123.100</td>\n",
       "      <td>129.74</td>\n",
       "      <td>123.0200</td>\n",
       "      <td>124.06</td>\n",
       "      <td>22066002</td>\n",
       "    </tr>\n",
       "    <tr>\n",
       "      <th>2018-12-21</th>\n",
       "      <td>133.390</td>\n",
       "      <td>134.90</td>\n",
       "      <td>123.4200</td>\n",
       "      <td>124.95</td>\n",
       "      <td>56901491</td>\n",
       "    </tr>\n",
       "    <tr>\n",
       "      <th>2018-12-31</th>\n",
       "      <td>134.450</td>\n",
       "      <td>134.64</td>\n",
       "      <td>129.9500</td>\n",
       "      <td>131.09</td>\n",
       "      <td>24625308</td>\n",
       "    </tr>\n",
       "    <tr>\n",
       "      <th>2018-11-19</th>\n",
       "      <td>137.610</td>\n",
       "      <td>137.75</td>\n",
       "      <td>131.2100</td>\n",
       "      <td>131.55</td>\n",
       "      <td>44362729</td>\n",
       "    </tr>\n",
       "    <tr>\n",
       "      <th>2018-11-23</th>\n",
       "      <td>133.650</td>\n",
       "      <td>134.50</td>\n",
       "      <td>131.2551</td>\n",
       "      <td>131.73</td>\n",
       "      <td>11886128</td>\n",
       "    </tr>\n",
       "    <tr>\n",
       "      <th>...</th>\n",
       "      <td>...</td>\n",
       "      <td>...</td>\n",
       "      <td>...</td>\n",
       "      <td>...</td>\n",
       "      <td>...</td>\n",
       "    </tr>\n",
       "    <tr>\n",
       "      <th>2018-07-20</th>\n",
       "      <td>208.850</td>\n",
       "      <td>211.50</td>\n",
       "      <td>208.5000</td>\n",
       "      <td>209.94</td>\n",
       "      <td>16241508</td>\n",
       "    </tr>\n",
       "    <tr>\n",
       "      <th>2018-07-17</th>\n",
       "      <td>204.900</td>\n",
       "      <td>210.46</td>\n",
       "      <td>204.8400</td>\n",
       "      <td>209.99</td>\n",
       "      <td>15349892</td>\n",
       "    </tr>\n",
       "    <tr>\n",
       "      <th>2018-07-23</th>\n",
       "      <td>210.580</td>\n",
       "      <td>211.62</td>\n",
       "      <td>208.8000</td>\n",
       "      <td>210.91</td>\n",
       "      <td>16731969</td>\n",
       "    </tr>\n",
       "    <tr>\n",
       "      <th>2018-07-24</th>\n",
       "      <td>215.110</td>\n",
       "      <td>216.20</td>\n",
       "      <td>212.6000</td>\n",
       "      <td>214.67</td>\n",
       "      <td>28468681</td>\n",
       "    </tr>\n",
       "    <tr>\n",
       "      <th>2018-07-25</th>\n",
       "      <td>215.715</td>\n",
       "      <td>218.62</td>\n",
       "      <td>214.2700</td>\n",
       "      <td>217.50</td>\n",
       "      <td>64592585</td>\n",
       "    </tr>\n",
       "  </tbody>\n",
       "</table>\n",
       "<p>251 rows × 5 columns</p>\n",
       "</div>"
      ],
      "text/plain": [
       "               open    high       low   close    volume\n",
       "date                                                   \n",
       "2018-12-24  123.100  129.74  123.0200  124.06  22066002\n",
       "2018-12-21  133.390  134.90  123.4200  124.95  56901491\n",
       "2018-12-31  134.450  134.64  129.9500  131.09  24625308\n",
       "2018-11-19  137.610  137.75  131.2100  131.55  44362729\n",
       "2018-11-23  133.650  134.50  131.2551  131.73  11886128\n",
       "...             ...     ...       ...     ...       ...\n",
       "2018-07-20  208.850  211.50  208.5000  209.94  16241508\n",
       "2018-07-17  204.900  210.46  204.8400  209.99  15349892\n",
       "2018-07-23  210.580  211.62  208.8000  210.91  16731969\n",
       "2018-07-24  215.110  216.20  212.6000  214.67  28468681\n",
       "2018-07-25  215.715  218.62  214.2700  217.50  64592585\n",
       "\n",
       "[251 rows x 5 columns]"
      ]
     },
     "execution_count": 89,
     "metadata": {},
     "output_type": "execute_result"
    }
   ],
   "source": [
    "#Question 1\n",
    "#filter by close column and ascending order\n",
    "fb.sort_values(by='close', ascending=True)"
   ]
  },
  {
   "cell_type": "code",
   "execution_count": 90,
   "id": "46f96f53",
   "metadata": {},
   "outputs": [
    {
     "data": {
      "text/plain": [
       "[<matplotlib.lines.Line2D at 0x20543091280>]"
      ]
     },
     "execution_count": 90,
     "metadata": {},
     "output_type": "execute_result"
    },
    {
     "data": {
      "image/png": "[encoded data removed]",
      "text/plain": [
       "<Figure size 432x288 with 1 Axes>"
      ]
     },
     "metadata": {
      "needs_background": "light"
     },
     "output_type": "display_data"
    }
   ],
   "source": [
    "#Plot 20-day minimum of Facebook closing price\n",
    "plt.plot('close', color='green', marker='o', data=fb.head(20))"
   ]
  },
  {
   "cell_type": "code",
   "execution_count": 91,
   "id": "7964c1f9",
   "metadata": {},
   "outputs": [],
   "source": [
    "close_rolling_min = fb.pivot_table(\n",
    "    index=fb.index, \n",
    "    columns='close', \n",
    "    values='low'\n",
    ").rolling(20).min()"
   ]
  },
  {
   "cell_type": "code",
   "execution_count": 92,
   "id": "6d25ed61",
   "metadata": {},
   "outputs": [
    {
     "ename": "SyntaxError",
     "evalue": "invalid syntax (Temp/ipykernel_23144/2025232928.py, line 3)",
     "output_type": "error",
     "traceback": [
      "\u001b[1;36m  File \u001b[1;32m\"C:\\Users\\12162\\AppData\\Local\\Temp/ipykernel_23144/2025232928.py\"\u001b[1;36m, line \u001b[1;32m3\u001b[0m\n\u001b[1;33m    close_rolling_min['close'].plot(ax=axes[0], style='-.c', title='20-day rolling minimum of Facebook Closing Price')\u001b[0m\n\u001b[1;37m    ^\u001b[0m\n\u001b[1;31mSyntaxError\u001b[0m\u001b[1;31m:\u001b[0m invalid syntax\n"
     ]
    }
   ],
   "source": [
    "fig, axes = plt.subplots(1, 3, figsize=(15, 5)\n",
    "\n",
    "close_rolling_min['close'].plot(ax=axes[0], style='-.c', title='20-day rolling minimum of Facebook Closing Price')\n"
   ]
  },
  {
   "cell_type": "code",
   "execution_count": 93,
   "id": "7b1db287",
   "metadata": {},
   "outputs": [
    {
     "data": {
      "text/plain": [
       "Text(0.5, 0, 'Open and Close Price')"
      ]
     },
     "execution_count": 93,
     "metadata": {},
     "output_type": "execute_result"
    },
    {
     "data": {
      "image/png": "[encoded data removed]",
      "text/plain": [
       "<Figure size 432x288 with 1 Axes>"
      ]
     },
     "metadata": {
      "needs_background": "light"
     },
     "output_type": "display_data"
    }
   ],
   "source": [
    "#Question 2\n",
    "#Histogram of the change from open to close in the price of Facebook stock.\n",
    "fb.open.plot(\n",
    "    kind='hist', \n",
    "    title='Histogram of Facebook Stock at Open and Close'\n",
    ")\n",
    "plt.xlabel('Open and Close Price') # label the x-axis (discussed in chapter 6)\n",
    "\n",
    "fb.close.plot(\n",
    "    kind='hist', \n",
    "    title='Histogram of Facebook Stock at Open and Close'\n",
    ")\n",
    "plt.xlabel('Open and Close Price') # label the x-axis (discussed in chapter 6)"
   ]
  },
  {
   "cell_type": "code",
   "execution_count": 94,
   "id": "8fa498ad",
   "metadata": {},
   "outputs": [
    {
     "data": {
      "text/plain": [
       "Text(0.5, 0, 'Price ($)')"
      ]
     },
     "execution_count": 94,
     "metadata": {},
     "output_type": "execute_result"
    },
    {
     "data": {
      "image/png": "[encoded data removed]",
      "text/plain": [
       "<Figure size 432x288 with 1 Axes>"
      ]
     },
     "metadata": {
      "needs_background": "light"
     },
     "output_type": "display_data"
    }
   ],
   "source": [
    "#KDE of the change from open to close in the price of Facebook stock.\n",
    "fb.open.plot(\n",
    "    kind='kde', \n",
    "    title='KDE of Daily Open and Close Price for Facebook Stock'\n",
    ")\n",
    "plt.xlabel('Price ($)') # label the x-axis (discussed in chapter 6)\n",
    "\n",
    "fb.close.plot(\n",
    "    kind='kde', \n",
    "    title='KDE of Daily Open and Close Price for Facebook Stock'\n",
    ")\n",
    "plt.xlabel('Price ($)') # label the x-axis (discussed in chapter 6)"
   ]
  },
  {
   "cell_type": "code",
   "execution_count": 95,
   "id": "65c40a1d",
   "metadata": {},
   "outputs": [
    {
     "data": {
      "text/html": [
       "<div>\n",
       "<style scoped>\n",
       "    .dataframe tbody tr th:only-of-type {\n",
       "        vertical-align: middle;\n",
       "    }\n",
       "\n",
       "    .dataframe tbody tr th {\n",
       "        vertical-align: top;\n",
       "    }\n",
       "\n",
       "    .dataframe thead th {\n",
       "        text-align: right;\n",
       "    }\n",
       "</style>\n",
       "<table border=\"1\" class=\"dataframe\">\n",
       "  <thead>\n",
       "    <tr style=\"text-align: right;\">\n",
       "      <th></th>\n",
       "      <th>mag</th>\n",
       "      <th>magType</th>\n",
       "      <th>time</th>\n",
       "      <th>place</th>\n",
       "      <th>tsunami</th>\n",
       "      <th>parsed_place</th>\n",
       "    </tr>\n",
       "  </thead>\n",
       "  <tbody>\n",
       "    <tr>\n",
       "      <th>0</th>\n",
       "      <td>1.35</td>\n",
       "      <td>ml</td>\n",
       "      <td>1539475168010</td>\n",
       "      <td>9km NE of Aguanga, CA</td>\n",
       "      <td>0</td>\n",
       "      <td>California</td>\n",
       "    </tr>\n",
       "    <tr>\n",
       "      <th>1</th>\n",
       "      <td>1.29</td>\n",
       "      <td>ml</td>\n",
       "      <td>1539475129610</td>\n",
       "      <td>9km NE of Aguanga, CA</td>\n",
       "      <td>0</td>\n",
       "      <td>California</td>\n",
       "    </tr>\n",
       "    <tr>\n",
       "      <th>2</th>\n",
       "      <td>3.42</td>\n",
       "      <td>ml</td>\n",
       "      <td>1539475062610</td>\n",
       "      <td>8km NE of Aguanga, CA</td>\n",
       "      <td>0</td>\n",
       "      <td>California</td>\n",
       "    </tr>\n",
       "    <tr>\n",
       "      <th>3</th>\n",
       "      <td>0.44</td>\n",
       "      <td>ml</td>\n",
       "      <td>1539474978070</td>\n",
       "      <td>9km NE of Aguanga, CA</td>\n",
       "      <td>0</td>\n",
       "      <td>California</td>\n",
       "    </tr>\n",
       "    <tr>\n",
       "      <th>4</th>\n",
       "      <td>2.16</td>\n",
       "      <td>md</td>\n",
       "      <td>1539474716050</td>\n",
       "      <td>10km NW of Avenal, CA</td>\n",
       "      <td>0</td>\n",
       "      <td>California</td>\n",
       "    </tr>\n",
       "  </tbody>\n",
       "</table>\n",
       "</div>"
      ],
      "text/plain": [
       "    mag magType           time                  place  tsunami parsed_place\n",
       "0  1.35      ml  1539475168010  9km NE of Aguanga, CA        0   California\n",
       "1  1.29      ml  1539475129610  9km NE of Aguanga, CA        0   California\n",
       "2  3.42      ml  1539475062610  8km NE of Aguanga, CA        0   California\n",
       "3  0.44      ml  1539474978070  9km NE of Aguanga, CA        0   California\n",
       "4  2.16      md  1539474716050  10km NW of Avenal, CA        0   California"
      ]
     },
     "execution_count": 95,
     "metadata": {},
     "output_type": "execute_result"
    }
   ],
   "source": [
    "#Question 3\n",
    "#Load dataset\n",
    "eq = pd.read_csv(\"C:\\\\Users\\\\12162\\\\Documents\\\\BU\\\\DSC 350\\\\Week 7\\\\data\\\\earthquakes.csv\")\n",
    "eq.head()"
   ]
  },
  {
   "cell_type": "code",
   "execution_count": 96,
   "id": "9d008bff",
   "metadata": {},
   "outputs": [
    {
     "data": {
      "text/html": [
       "<div>\n",
       "<style scoped>\n",
       "    .dataframe tbody tr th:only-of-type {\n",
       "        vertical-align: middle;\n",
       "    }\n",
       "\n",
       "    .dataframe tbody tr th {\n",
       "        vertical-align: top;\n",
       "    }\n",
       "\n",
       "    .dataframe thead th {\n",
       "        text-align: right;\n",
       "    }\n",
       "</style>\n",
       "<table border=\"1\" class=\"dataframe\">\n",
       "  <thead>\n",
       "    <tr style=\"text-align: right;\">\n",
       "      <th></th>\n",
       "      <th>mag</th>\n",
       "      <th>magType</th>\n",
       "      <th>time</th>\n",
       "      <th>place</th>\n",
       "      <th>tsunami</th>\n",
       "      <th>parsed_place</th>\n",
       "    </tr>\n",
       "  </thead>\n",
       "  <tbody>\n",
       "    <tr>\n",
       "      <th>9</th>\n",
       "      <td>4.7</td>\n",
       "      <td>mb</td>\n",
       "      <td>1539472814760</td>\n",
       "      <td>219km SSE of Saparua, Indonesia</td>\n",
       "      <td>0</td>\n",
       "      <td>Indonesia</td>\n",
       "    </tr>\n",
       "    <tr>\n",
       "      <th>13</th>\n",
       "      <td>4.5</td>\n",
       "      <td>mb</td>\n",
       "      <td>1539470898340</td>\n",
       "      <td>120km SSW of Banda Aceh, Indonesia</td>\n",
       "      <td>0</td>\n",
       "      <td>Indonesia</td>\n",
       "    </tr>\n",
       "    <tr>\n",
       "      <th>180</th>\n",
       "      <td>5.2</td>\n",
       "      <td>mww</td>\n",
       "      <td>1539405255580</td>\n",
       "      <td>25km E of Bitung, Indonesia</td>\n",
       "      <td>0</td>\n",
       "      <td>Indonesia</td>\n",
       "    </tr>\n",
       "    <tr>\n",
       "      <th>421</th>\n",
       "      <td>4.7</td>\n",
       "      <td>mb</td>\n",
       "      <td>1539331098920</td>\n",
       "      <td>38km SSW of Nggongi Satu, Indonesia</td>\n",
       "      <td>0</td>\n",
       "      <td>Indonesia</td>\n",
       "    </tr>\n",
       "    <tr>\n",
       "      <th>660</th>\n",
       "      <td>4.4</td>\n",
       "      <td>mb</td>\n",
       "      <td>1539258833830</td>\n",
       "      <td>51km WSW of Kasiguncu, Indonesia</td>\n",
       "      <td>0</td>\n",
       "      <td>Indonesia</td>\n",
       "    </tr>\n",
       "  </tbody>\n",
       "</table>\n",
       "</div>"
      ],
      "text/plain": [
       "     mag magType           time                                place  tsunami  \\\n",
       "9    4.7      mb  1539472814760      219km SSE of Saparua, Indonesia        0   \n",
       "13   4.5      mb  1539470898340   120km SSW of Banda Aceh, Indonesia        0   \n",
       "180  5.2     mww  1539405255580          25km E of Bitung, Indonesia        0   \n",
       "421  4.7      mb  1539331098920  38km SSW of Nggongi Satu, Indonesia        0   \n",
       "660  4.4      mb  1539258833830     51km WSW of Kasiguncu, Indonesia        0   \n",
       "\n",
       "    parsed_place  \n",
       "9      Indonesia  \n",
       "13     Indonesia  \n",
       "180    Indonesia  \n",
       "421    Indonesia  \n",
       "660    Indonesia  "
      ]
     },
     "execution_count": 96,
     "metadata": {},
     "output_type": "execute_result"
    }
   ],
   "source": [
    "#Filtering data with appropriate columns\n",
    "new_eq = eq.loc[(eq.parsed_place == 'Indonesia')]\n",
    "\n",
    "new_eq.head()"
   ]
  },
  {
   "cell_type": "code",
   "execution_count": 97,
   "id": "02771c9a",
   "metadata": {},
   "outputs": [
    {
     "data": {
      "text/plain": [
       "Text(0, 0.5, 'magnitude')"
      ]
     },
     "execution_count": 97,
     "metadata": {},
     "output_type": "execute_result"
    },
    {
     "data": {
      "image/png": "[encoded data removed]",
      "text/plain": [
       "<Figure size 1080x576 with 1 Axes>"
      ]
     },
     "metadata": {
      "needs_background": "light"
     },
     "output_type": "display_data"
    }
   ],
   "source": [
    "#Box plots for the magnitudes of each magType used in Indonesia\n",
    "new_eq[['mag', 'magType']].groupby('magType').boxplot(\n",
    "    figsize=(15, 8), subplots=False\n",
    ")\n",
    "plt.title('Earthquake Magnitude Box Plots by magType in Indonesia')\n",
    "plt.ylabel('magnitude') #label the y-axis"
   ]
  },
  {
   "cell_type": "code",
   "execution_count": 98,
   "id": "d6769e4a",
   "metadata": {},
   "outputs": [
    {
     "data": {
      "text/plain": [
       "<AxesSubplot:title={'center':'Facebook Daily High - Low'}, xlabel='volume'>"
      ]
     },
     "execution_count": 98,
     "metadata": {},
     "output_type": "execute_result"
    },
    {
     "data": {
      "image/png": "[encoded data removed]",
      "text/plain": [
       "<Figure size 432x288 with 1 Axes>"
      ]
     },
     "metadata": {
      "needs_background": "light"
     },
     "output_type": "display_data"
    }
   ],
   "source": [
    "#Question 4\n",
    "#Difference of weekly maximum high price and the weekly minimum low price for Facebook. \n",
    "fb.assign(\n",
    "    max_abs_change=fb.high - fb.low\n",
    ").plot(\n",
    "    kind='line', x='volume', y='max_abs_change',\n",
    "    title='Facebook Daily High - Low'\n",
    ")"
   ]
  },
  {
   "cell_type": "code",
   "execution_count": 100,
   "id": "3a9cf369",
   "metadata": {},
   "outputs": [
    {
     "data": {
      "text/html": [
       "<div>\n",
       "<style scoped>\n",
       "    .dataframe tbody tr th:only-of-type {\n",
       "        vertical-align: middle;\n",
       "    }\n",
       "\n",
       "    .dataframe tbody tr th {\n",
       "        vertical-align: top;\n",
       "    }\n",
       "\n",
       "    .dataframe thead th {\n",
       "        text-align: right;\n",
       "    }\n",
       "</style>\n",
       "<table border=\"1\" class=\"dataframe\">\n",
       "  <thead>\n",
       "    <tr style=\"text-align: right;\">\n",
       "      <th></th>\n",
       "      <th>open</th>\n",
       "      <th>high</th>\n",
       "      <th>low</th>\n",
       "      <th>close</th>\n",
       "      <th>volume</th>\n",
       "      <th>prior_close</th>\n",
       "      <th>after_hours_change_in_price</th>\n",
       "      <th>abs_change</th>\n",
       "    </tr>\n",
       "    <tr>\n",
       "      <th>date</th>\n",
       "      <th></th>\n",
       "      <th></th>\n",
       "      <th></th>\n",
       "      <th></th>\n",
       "      <th></th>\n",
       "      <th></th>\n",
       "      <th></th>\n",
       "      <th></th>\n",
       "    </tr>\n",
       "  </thead>\n",
       "  <tbody>\n",
       "    <tr>\n",
       "      <th>2018-07-26</th>\n",
       "      <td>174.89</td>\n",
       "      <td>180.13</td>\n",
       "      <td>173.75</td>\n",
       "      <td>176.26</td>\n",
       "      <td>169803668</td>\n",
       "      <td>217.50</td>\n",
       "      <td>-42.61</td>\n",
       "      <td>42.61</td>\n",
       "    </tr>\n",
       "    <tr>\n",
       "      <th>2018-04-26</th>\n",
       "      <td>173.22</td>\n",
       "      <td>176.27</td>\n",
       "      <td>170.80</td>\n",
       "      <td>174.16</td>\n",
       "      <td>77556934</td>\n",
       "      <td>159.69</td>\n",
       "      <td>13.53</td>\n",
       "      <td>13.53</td>\n",
       "    </tr>\n",
       "    <tr>\n",
       "      <th>2018-01-12</th>\n",
       "      <td>178.06</td>\n",
       "      <td>181.48</td>\n",
       "      <td>177.40</td>\n",
       "      <td>179.37</td>\n",
       "      <td>77551299</td>\n",
       "      <td>187.77</td>\n",
       "      <td>-9.71</td>\n",
       "      <td>9.71</td>\n",
       "    </tr>\n",
       "    <tr>\n",
       "      <th>2018-10-31</th>\n",
       "      <td>155.00</td>\n",
       "      <td>156.40</td>\n",
       "      <td>148.96</td>\n",
       "      <td>151.79</td>\n",
       "      <td>60101251</td>\n",
       "      <td>146.22</td>\n",
       "      <td>8.78</td>\n",
       "      <td>8.78</td>\n",
       "    </tr>\n",
       "    <tr>\n",
       "      <th>2018-03-19</th>\n",
       "      <td>177.01</td>\n",
       "      <td>177.17</td>\n",
       "      <td>170.06</td>\n",
       "      <td>172.56</td>\n",
       "      <td>88140060</td>\n",
       "      <td>185.09</td>\n",
       "      <td>-8.08</td>\n",
       "      <td>8.08</td>\n",
       "    </tr>\n",
       "  </tbody>\n",
       "</table>\n",
       "</div>"
      ],
      "text/plain": [
       "              open    high     low   close     volume  prior_close  \\\n",
       "date                                                                 \n",
       "2018-07-26  174.89  180.13  173.75  176.26  169803668       217.50   \n",
       "2018-04-26  173.22  176.27  170.80  174.16   77556934       159.69   \n",
       "2018-01-12  178.06  181.48  177.40  179.37   77551299       187.77   \n",
       "2018-10-31  155.00  156.40  148.96  151.79   60101251       146.22   \n",
       "2018-03-19  177.01  177.17  170.06  172.56   88140060       185.09   \n",
       "\n",
       "            after_hours_change_in_price  abs_change  \n",
       "date                                                 \n",
       "2018-07-26                       -42.61       42.61  \n",
       "2018-04-26                        13.53       13.53  \n",
       "2018-01-12                        -9.71        9.71  \n",
       "2018-10-31                         8.78        8.78  \n",
       "2018-03-19                        -8.08        8.08  "
      ]
     },
     "execution_count": 100,
     "metadata": {},
     "output_type": "execute_result"
    }
   ],
   "source": [
    "#Question 5\n",
    "#Adding appropraite columns\n",
    "fb.assign(\n",
    "    prior_close=lambda x: x.close.shift(),\n",
    "    after_hours_change_in_price=lambda x: x.open - x.prior_close,\n",
    "    abs_change=lambda x: x.after_hours_change_in_price.abs()).nlargest(5, 'abs_change')"
   ]
  },
  {
   "cell_type": "code",
   "execution_count": 107,
   "id": "c57ddecd",
   "metadata": {},
   "outputs": [
    {
     "data": {
      "text/plain": [
       "[<matplotlib.lines.Line2D at 0x20544a7f3a0>]"
      ]
     },
     "execution_count": 107,
     "metadata": {},
     "output_type": "execute_result"
    },
    {
     "data": {
      "image/png": "[encoded data removed]",
      "text/plain": [
       "<Figure size 432x288 with 1 Axes>"
      ]
     },
     "metadata": {
      "needs_background": "light"
     },
     "output_type": "display_data"
    }
   ],
   "source": [
    "plt.plot('abs_change', color='green', marker='o', data=fb.head(100))"
   ]
  },
  {
   "cell_type": "code",
   "execution_count": 111,
   "id": "d03907c3",
   "metadata": {},
   "outputs": [],
   "source": [
    "from sklearn.utils import resample"
   ]
  },
  {
   "cell_type": "code",
   "execution_count": 113,
   "id": "ce24443b",
   "metadata": {},
   "outputs": [
    {
     "data": {
      "text/html": [
       "<div>\n",
       "<style scoped>\n",
       "    .dataframe tbody tr th:only-of-type {\n",
       "        vertical-align: middle;\n",
       "    }\n",
       "\n",
       "    .dataframe tbody tr th {\n",
       "        vertical-align: top;\n",
       "    }\n",
       "\n",
       "    .dataframe thead th {\n",
       "        text-align: right;\n",
       "    }\n",
       "</style>\n",
       "<table border=\"1\" class=\"dataframe\">\n",
       "  <thead>\n",
       "    <tr style=\"text-align: right;\">\n",
       "      <th></th>\n",
       "      <th>open</th>\n",
       "      <th>high</th>\n",
       "      <th>low</th>\n",
       "      <th>close</th>\n",
       "      <th>volume</th>\n",
       "    </tr>\n",
       "    <tr>\n",
       "      <th>date</th>\n",
       "      <th></th>\n",
       "      <th></th>\n",
       "      <th></th>\n",
       "      <th></th>\n",
       "      <th></th>\n",
       "    </tr>\n",
       "  </thead>\n",
       "  <tbody>\n",
       "    <tr>\n",
       "      <th>2018-01-02</th>\n",
       "      <td>177.680</td>\n",
       "      <td>190.6600</td>\n",
       "      <td>175.8000</td>\n",
       "      <td>186.89</td>\n",
       "      <td>495655736</td>\n",
       "    </tr>\n",
       "    <tr>\n",
       "      <th>2018-02-01</th>\n",
       "      <td>188.220</td>\n",
       "      <td>195.3200</td>\n",
       "      <td>167.1800</td>\n",
       "      <td>176.62</td>\n",
       "      <td>559849522</td>\n",
       "    </tr>\n",
       "    <tr>\n",
       "      <th>2018-03-03</th>\n",
       "      <td>176.200</td>\n",
       "      <td>186.1000</td>\n",
       "      <td>149.0200</td>\n",
       "      <td>159.79</td>\n",
       "      <td>953004941</td>\n",
       "    </tr>\n",
       "    <tr>\n",
       "      <th>2018-04-02</th>\n",
       "      <td>157.810</td>\n",
       "      <td>177.1000</td>\n",
       "      <td>150.5100</td>\n",
       "      <td>173.86</td>\n",
       "      <td>777156320</td>\n",
       "    </tr>\n",
       "    <tr>\n",
       "      <th>2018-05-02</th>\n",
       "      <td>174.246</td>\n",
       "      <td>192.7200</td>\n",
       "      <td>172.1200</td>\n",
       "      <td>191.78</td>\n",
       "      <td>375118251</td>\n",
       "    </tr>\n",
       "    <tr>\n",
       "      <th>2018-06-01</th>\n",
       "      <td>193.065</td>\n",
       "      <td>203.5500</td>\n",
       "      <td>186.4300</td>\n",
       "      <td>194.32</td>\n",
       "      <td>387265765</td>\n",
       "    </tr>\n",
       "    <tr>\n",
       "      <th>2018-07-01</th>\n",
       "      <td>193.370</td>\n",
       "      <td>218.6200</td>\n",
       "      <td>166.5600</td>\n",
       "      <td>171.06</td>\n",
       "      <td>612406788</td>\n",
       "    </tr>\n",
       "    <tr>\n",
       "      <th>2018-07-31</th>\n",
       "      <td>170.670</td>\n",
       "      <td>188.3000</td>\n",
       "      <td>170.0000</td>\n",
       "      <td>175.90</td>\n",
       "      <td>547091569</td>\n",
       "    </tr>\n",
       "    <tr>\n",
       "      <th>2018-08-30</th>\n",
       "      <td>175.900</td>\n",
       "      <td>179.7901</td>\n",
       "      <td>158.8656</td>\n",
       "      <td>164.46</td>\n",
       "      <td>542750603</td>\n",
       "    </tr>\n",
       "    <tr>\n",
       "      <th>2018-09-29</th>\n",
       "      <td>163.030</td>\n",
       "      <td>165.8800</td>\n",
       "      <td>143.8000</td>\n",
       "      <td>145.37</td>\n",
       "      <td>480479922</td>\n",
       "    </tr>\n",
       "    <tr>\n",
       "      <th>2018-10-29</th>\n",
       "      <td>148.500</td>\n",
       "      <td>156.4000</td>\n",
       "      <td>126.8500</td>\n",
       "      <td>135.00</td>\n",
       "      <td>580297933</td>\n",
       "    </tr>\n",
       "    <tr>\n",
       "      <th>2018-11-28</th>\n",
       "      <td>136.280</td>\n",
       "      <td>147.1900</td>\n",
       "      <td>123.0200</td>\n",
       "      <td>134.52</td>\n",
       "      <td>591352167</td>\n",
       "    </tr>\n",
       "    <tr>\n",
       "      <th>2018-12-28</th>\n",
       "      <td>135.340</td>\n",
       "      <td>135.9200</td>\n",
       "      <td>129.9500</td>\n",
       "      <td>131.09</td>\n",
       "      <td>47252877</td>\n",
       "    </tr>\n",
       "  </tbody>\n",
       "</table>\n",
       "</div>"
      ],
      "text/plain": [
       "               open      high       low   close     volume\n",
       "date                                                      \n",
       "2018-01-02  177.680  190.6600  175.8000  186.89  495655736\n",
       "2018-02-01  188.220  195.3200  167.1800  176.62  559849522\n",
       "2018-03-03  176.200  186.1000  149.0200  159.79  953004941\n",
       "2018-04-02  157.810  177.1000  150.5100  173.86  777156320\n",
       "2018-05-02  174.246  192.7200  172.1200  191.78  375118251\n",
       "2018-06-01  193.065  203.5500  186.4300  194.32  387265765\n",
       "2018-07-01  193.370  218.6200  166.5600  171.06  612406788\n",
       "2018-07-31  170.670  188.3000  170.0000  175.90  547091569\n",
       "2018-08-30  175.900  179.7901  158.8656  164.46  542750603\n",
       "2018-09-29  163.030  165.8800  143.8000  145.37  480479922\n",
       "2018-10-29  148.500  156.4000  126.8500  135.00  580297933\n",
       "2018-11-28  136.280  147.1900  123.0200  134.52  591352167\n",
       "2018-12-28  135.340  135.9200  129.9500  131.09   47252877"
      ]
     },
     "execution_count": 113,
     "metadata": {},
     "output_type": "execute_result"
    }
   ],
   "source": [
    "#Monthly using Resample\n",
    "fb.resample('30D').agg({\n",
    "    'open': 'first', 'high': 'max', 'low': 'min', 'close': 'last', 'volume': 'sum'}) "
   ]
  },
  {
   "cell_type": "code",
   "execution_count": null,
   "id": "1201743d",
   "metadata": {},
   "outputs": [],
   "source": []
  }
 ],
 "metadata": {
  "kernelspec": {
   "display_name": "Python 3 (ipykernel)",
   "language": "python",
   "name": "python3"
  },
  "language_info": {
   "codemirror_mode": {
    "name": "ipython",
    "version": 3
   },
   "file_extension": ".py",
   "mimetype": "text/x-python",
   "name": "python",
   "nbconvert_exporter": "python",
   "pygments_lexer": "ipython3",
   "version": "3.9.7"
  }
 },
 "nbformat": 4,
 "nbformat_minor": 5
}
